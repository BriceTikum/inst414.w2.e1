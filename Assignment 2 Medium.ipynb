{
 "cells": [
  {
   "cell_type": "code",
   "execution_count": 10,
   "id": "8d1fc5d4",
   "metadata": {
    "scrolled": true
   },
   "outputs": [
    {
     "name": "stdout",
     "output_type": "stream",
     "text": [
      "Requirement already satisfied: instaloader in /Users/bricetikum/opt/anaconda3/lib/python3.9/site-packages (4.9.6)\n",
      "Requirement already satisfied: requests>=2.4 in /Users/bricetikum/opt/anaconda3/lib/python3.9/site-packages (from instaloader) (2.28.1)\n",
      "Requirement already satisfied: certifi>=2017.4.17 in /Users/bricetikum/opt/anaconda3/lib/python3.9/site-packages (from requests>=2.4->instaloader) (2022.9.24)\n",
      "Requirement already satisfied: charset-normalizer<3,>=2 in /Users/bricetikum/opt/anaconda3/lib/python3.9/site-packages (from requests>=2.4->instaloader) (2.0.4)\n",
      "Requirement already satisfied: urllib3<1.27,>=1.21.1 in /Users/bricetikum/opt/anaconda3/lib/python3.9/site-packages (from requests>=2.4->instaloader) (1.26.11)\n",
      "Requirement already satisfied: idna<4,>=2.5 in /Users/bricetikum/opt/anaconda3/lib/python3.9/site-packages (from requests>=2.4->instaloader) (3.3)\n",
      "Note: you may need to restart the kernel to use updated packages.\n"
     ]
    }
   ],
   "source": [
    "pip install instaloader"
   ]
  },
  {
   "cell_type": "code",
   "execution_count": 17,
   "id": "9536e859",
   "metadata": {},
   "outputs": [],
   "source": [
    "import networkx as nx\n",
    "import pandas as pd\n",
    "import numpy as np\n",
    "import instaloader as il #Library used to access an accounts profile details "
   ]
  },
  {
   "cell_type": "code",
   "execution_count": 18,
   "id": "3310afb5",
   "metadata": {},
   "outputs": [],
   "source": [
    "# Creating an instance of the Instaloader class\n",
    "bot = il.Instaloader()\n",
    "bot.login(user=\"fatcow4098\", passwd=\"****\") #created accounts login and pass\n",
    "#Password changed for security purposes"
   ]
  },
  {
   "cell_type": "code",
   "execution_count": 19,
   "id": "c5a26e36",
   "metadata": {},
   "outputs": [],
   "source": [
    "# Loading a profile from an Instagram handle\n",
    "profile = il.Profile.from_username(bot.context, 'fatcow4098')"
   ]
  },
  {
   "cell_type": "code",
   "execution_count": 20,
   "id": "6984fc22",
   "metadata": {},
   "outputs": [],
   "source": [
    "# Loading a profile from an Instagram handle\n",
    "profile2 = il.Profile.from_username(bot.context, 'masonrose6')"
   ]
  },
  {
   "cell_type": "code",
   "execution_count": 21,
   "id": "40ca2877",
   "metadata": {},
   "outputs": [],
   "source": [
    "# Loading a profile from an Instagram handle\n",
    "profile3 = il.Profile.from_username(bot.context, 'kaylamaei')"
   ]
  },
  {
   "cell_type": "code",
   "execution_count": 22,
   "id": "eac939d5",
   "metadata": {},
   "outputs": [],
   "source": [
    "# Loading a profile from an Instagram handle\n",
    "profile4 = il.Profile.from_username(bot.context, 'ybrz7')"
   ]
  },
  {
   "cell_type": "code",
   "execution_count": 27,
   "id": "971ea07f",
   "metadata": {},
   "outputs": [],
   "source": [
    "#FOLLOWERS\n",
    "\n",
    "# Retrieving the usernames of all followers\n",
    "fatcow4098 = [follower.username for follower in profile.get_followers()]"
   ]
  },
  {
   "cell_type": "code",
   "execution_count": 29,
   "id": "c171fefb",
   "metadata": {},
   "outputs": [],
   "source": [
    "masonrose6 = [follower.username for follower in profile2.get_followers()]"
   ]
  },
  {
   "cell_type": "code",
   "execution_count": 30,
   "id": "2a5694e4",
   "metadata": {},
   "outputs": [],
   "source": [
    "kaylamaei = [follower.username for follower in profile3.get_followers()]"
   ]
  },
  {
   "cell_type": "code",
   "execution_count": 31,
   "id": "fc8558d2",
   "metadata": {},
   "outputs": [],
   "source": [
    "ybrz7 = [follower.username for follower in profile4.get_followers()]"
   ]
  },
  {
   "cell_type": "code",
   "execution_count": 34,
   "id": "1942e046",
   "metadata": {},
   "outputs": [],
   "source": [
    "# Creating a Dataframe to store the followers for an account\n",
    "followers_df = pd.DataFrame()"
   ]
  },
  {
   "cell_type": "code",
   "execution_count": 35,
   "id": "a55634dd",
   "metadata": {},
   "outputs": [],
   "source": [
    "# Converting the data to a DataFrame\n",
    "followers_df['fatcow4098'] = pd.DataFrame(fatcow4098)\n",
    "followers_df['masonrose6'] = pd.DataFrame(masonrose6)\n",
    "followers_df['kaylamaei'] = pd.DataFrame(kaylamaei)\n",
    "followers_df['ybrz7'] = pd.DataFrame(ybrz7)"
   ]
  },
  {
   "cell_type": "code",
   "execution_count": 36,
   "id": "37e561d6",
   "metadata": {},
   "outputs": [
    {
     "data": {
      "text/html": [
       "<div>\n",
       "<style scoped>\n",
       "    .dataframe tbody tr th:only-of-type {\n",
       "        vertical-align: middle;\n",
       "    }\n",
       "\n",
       "    .dataframe tbody tr th {\n",
       "        vertical-align: top;\n",
       "    }\n",
       "\n",
       "    .dataframe thead th {\n",
       "        text-align: right;\n",
       "    }\n",
       "</style>\n",
       "<table border=\"1\" class=\"dataframe\">\n",
       "  <thead>\n",
       "    <tr style=\"text-align: right;\">\n",
       "      <th></th>\n",
       "      <th>fatcow4098</th>\n",
       "      <th>masonrose6</th>\n",
       "      <th>kaylamaei</th>\n",
       "      <th>ybrz7</th>\n",
       "    </tr>\n",
       "  </thead>\n",
       "  <tbody>\n",
       "    <tr>\n",
       "      <th>0</th>\n",
       "      <td>masonrose6</td>\n",
       "      <td>xonathaniel_taggart_xo</td>\n",
       "      <td>xxtaylor.maiiix</td>\n",
       "      <td>livssssjunk</td>\n",
       "    </tr>\n",
       "    <tr>\n",
       "      <th>1</th>\n",
       "      <td>shawn_to_flyyyyy</td>\n",
       "      <td>xox.miaaa.xox</td>\n",
       "      <td>x.itzskyla.x</td>\n",
       "      <td>str8bandsss</td>\n",
       "    </tr>\n",
       "    <tr>\n",
       "      <th>2</th>\n",
       "      <td>whiskey_tango_foxbody</td>\n",
       "      <td>kaylamaei</td>\n",
       "      <td>itss.tamz8</td>\n",
       "      <td>itzyourgirllove</td>\n",
       "    </tr>\n",
       "    <tr>\n",
       "      <th>3</th>\n",
       "      <td>pruitt.coile</td>\n",
       "      <td>m1loose.1</td>\n",
       "      <td>c.tombsx</td>\n",
       "      <td>alana.rosexo</td>\n",
       "    </tr>\n",
       "    <tr>\n",
       "      <th>4</th>\n",
       "      <td>giadamistrutta</td>\n",
       "      <td>oussamabenmokran31</td>\n",
       "      <td>j1.sksk</td>\n",
       "      <td>switzymen</td>\n",
       "    </tr>\n",
       "    <tr>\n",
       "      <th>5</th>\n",
       "      <td>chillweed_4_20</td>\n",
       "      <td>pulisciano_19</td>\n",
       "      <td>tamia_x_</td>\n",
       "      <td>kadenfairbro_new</td>\n",
       "    </tr>\n",
       "    <tr>\n",
       "      <th>6</th>\n",
       "      <td>ratu.flora</td>\n",
       "      <td>s.dovastonx</td>\n",
       "      <td>ybrz7</td>\n",
       "      <td>xerinnnn_x</td>\n",
       "    </tr>\n",
       "    <tr>\n",
       "      <th>7</th>\n",
       "      <td>_bbrandon.23</td>\n",
       "      <td>xx.charlotte.xxo</td>\n",
       "      <td>kyza553</td>\n",
       "      <td>ihateremz</td>\n",
       "    </tr>\n",
       "    <tr>\n",
       "      <th>8</th>\n",
       "      <td>biabocaroser</td>\n",
       "      <td>m.looc1</td>\n",
       "      <td>jaiixbby1</td>\n",
       "      <td>ldzz.co</td>\n",
       "    </tr>\n",
       "    <tr>\n",
       "      <th>9</th>\n",
       "      <td>nao.nos.siga.aqui</td>\n",
       "      <td>amaritaggart123</td>\n",
       "      <td>zainempala.1</td>\n",
       "      <td>renayy_xo</td>\n",
       "    </tr>\n",
       "    <tr>\n",
       "      <th>10</th>\n",
       "      <td>tagandbag08</td>\n",
       "      <td>_.bethany_mai._</td>\n",
       "      <td>muggies_yo_</td>\n",
       "      <td>antisocial.ajay</td>\n",
       "    </tr>\n",
       "    <tr>\n",
       "      <th>11</th>\n",
       "      <td>paola_goomez</td>\n",
       "      <td>bishopwheelersqbb</td>\n",
       "      <td>lylaallsop</td>\n",
       "      <td>xmiamac.privx</td>\n",
       "    </tr>\n",
       "    <tr>\n",
       "      <th>12</th>\n",
       "      <td>jamesyoung6476</td>\n",
       "      <td>dz.mosthatedd</td>\n",
       "      <td>_.millyxcxx</td>\n",
       "      <td>x.kadie.x1</td>\n",
       "    </tr>\n",
       "    <tr>\n",
       "      <th>13</th>\n",
       "      <td>betkowskiji</td>\n",
       "      <td>harley.1806</td>\n",
       "      <td>brumbaitsss</td>\n",
       "      <td>kushyss_</td>\n",
       "    </tr>\n",
       "    <tr>\n",
       "      <th>14</th>\n",
       "      <td>decor_ecoo</td>\n",
       "      <td>rip_leboss1914</td>\n",
       "      <td>datkid_r1</td>\n",
       "      <td>garciella.chris11</td>\n",
       "    </tr>\n",
       "  </tbody>\n",
       "</table>\n",
       "</div>"
      ],
      "text/plain": [
       "               fatcow4098              masonrose6        kaylamaei  \\\n",
       "0              masonrose6  xonathaniel_taggart_xo  xxtaylor.maiiix   \n",
       "1        shawn_to_flyyyyy           xox.miaaa.xox     x.itzskyla.x   \n",
       "2   whiskey_tango_foxbody               kaylamaei       itss.tamz8   \n",
       "3            pruitt.coile               m1loose.1         c.tombsx   \n",
       "4          giadamistrutta      oussamabenmokran31          j1.sksk   \n",
       "5          chillweed_4_20           pulisciano_19         tamia_x_   \n",
       "6              ratu.flora             s.dovastonx            ybrz7   \n",
       "7            _bbrandon.23        xx.charlotte.xxo          kyza553   \n",
       "8            biabocaroser                 m.looc1        jaiixbby1   \n",
       "9       nao.nos.siga.aqui         amaritaggart123     zainempala.1   \n",
       "10            tagandbag08         _.bethany_mai._      muggies_yo_   \n",
       "11           paola_goomez       bishopwheelersqbb       lylaallsop   \n",
       "12         jamesyoung6476           dz.mosthatedd      _.millyxcxx   \n",
       "13            betkowskiji             harley.1806      brumbaitsss   \n",
       "14             decor_ecoo          rip_leboss1914        datkid_r1   \n",
       "\n",
       "                ybrz7  \n",
       "0         livssssjunk  \n",
       "1         str8bandsss  \n",
       "2     itzyourgirllove  \n",
       "3        alana.rosexo  \n",
       "4           switzymen  \n",
       "5    kadenfairbro_new  \n",
       "6          xerinnnn_x  \n",
       "7           ihateremz  \n",
       "8             ldzz.co  \n",
       "9           renayy_xo  \n",
       "10    antisocial.ajay  \n",
       "11      xmiamac.privx  \n",
       "12         x.kadie.x1  \n",
       "13           kushyss_  \n",
       "14  garciella.chris11  "
      ]
     },
     "execution_count": 36,
     "metadata": {},
     "output_type": "execute_result"
    }
   ],
   "source": [
    "#Limited to only first 15 followers of an account due to first account only having 15 followers\n",
    "followers_df"
   ]
  },
  {
   "cell_type": "code",
   "execution_count": 37,
   "id": "ae4095d1",
   "metadata": {},
   "outputs": [],
   "source": [
    "# Storing the results in a CSV file\n",
    "followers_df.to_csv('followers.csv', index=False)"
   ]
  },
  {
   "cell_type": "code",
   "execution_count": 39,
   "id": "4fec63f7",
   "metadata": {},
   "outputs": [
    {
     "data": {
      "text/plain": [
       "{0: 'masonrose6',\n",
       " 1: 'shawn_to_flyyyyy',\n",
       " 2: 'whiskey_tango_foxbody',\n",
       " 3: 'pruitt.coile',\n",
       " 4: 'giadamistrutta',\n",
       " 5: 'chillweed_4_20',\n",
       " 6: 'ratu.flora',\n",
       " 7: '_bbrandon.23',\n",
       " 8: 'biabocaroser',\n",
       " 9: 'nao.nos.siga.aqui',\n",
       " 10: 'tagandbag08',\n",
       " 11: 'paola_goomez',\n",
       " 12: 'jamesyoung6476',\n",
       " 13: 'betkowskiji',\n",
       " 14: 'decor_ecoo'}"
      ]
     },
     "execution_count": 39,
     "metadata": {},
     "output_type": "execute_result"
    }
   ],
   "source": [
    "#Creating a dictionary to store the followers of an account\n",
    "dict1 = followers_df['fatcow4098'].to_dict()\n",
    "dict1"
   ]
  },
  {
   "cell_type": "code",
   "execution_count": 40,
   "id": "02bb9663",
   "metadata": {},
   "outputs": [
    {
     "data": {
      "text/plain": [
       "{0: 'xonathaniel_taggart_xo',\n",
       " 1: 'xox.miaaa.xox',\n",
       " 2: 'kaylamaei',\n",
       " 3: 'm1loose.1',\n",
       " 4: 'oussamabenmokran31',\n",
       " 5: 'pulisciano_19',\n",
       " 6: 's.dovastonx',\n",
       " 7: 'xx.charlotte.xxo',\n",
       " 8: 'm.looc1',\n",
       " 9: 'amaritaggart123',\n",
       " 10: '_.bethany_mai._',\n",
       " 11: 'bishopwheelersqbb',\n",
       " 12: 'dz.mosthatedd',\n",
       " 13: 'harley.1806',\n",
       " 14: 'rip_leboss1914'}"
      ]
     },
     "execution_count": 40,
     "metadata": {},
     "output_type": "execute_result"
    }
   ],
   "source": [
    "#Creating a dictionary to store the followers of an account\n",
    "dict2 = followers_df['masonrose6'].to_dict()\n",
    "dict2"
   ]
  },
  {
   "cell_type": "code",
   "execution_count": 41,
   "id": "58ba80fc",
   "metadata": {},
   "outputs": [
    {
     "data": {
      "text/plain": [
       "{0: 'xxtaylor.maiiix',\n",
       " 1: 'x.itzskyla.x',\n",
       " 2: 'itss.tamz8',\n",
       " 3: 'c.tombsx',\n",
       " 4: 'j1.sksk',\n",
       " 5: 'tamia_x_',\n",
       " 6: 'ybrz7',\n",
       " 7: 'kyza553',\n",
       " 8: 'jaiixbby1',\n",
       " 9: 'zainempala.1',\n",
       " 10: 'muggies_yo_',\n",
       " 11: 'lylaallsop',\n",
       " 12: '_.millyxcxx',\n",
       " 13: 'brumbaitsss',\n",
       " 14: 'datkid_r1'}"
      ]
     },
     "execution_count": 41,
     "metadata": {},
     "output_type": "execute_result"
    }
   ],
   "source": [
    "#Creating a dictionary to store the followers of an account\n",
    "dict3 = followers_df['kaylamaei'].to_dict()\n",
    "dict3"
   ]
  },
  {
   "cell_type": "code",
   "execution_count": 42,
   "id": "3a18a073",
   "metadata": {},
   "outputs": [
    {
     "data": {
      "text/plain": [
       "{0: 'livssssjunk',\n",
       " 1: 'str8bandsss',\n",
       " 2: 'itzyourgirllove',\n",
       " 3: 'alana.rosexo',\n",
       " 4: 'switzymen',\n",
       " 5: 'kadenfairbro_new',\n",
       " 6: 'xerinnnn_x',\n",
       " 7: 'ihateremz',\n",
       " 8: 'ldzz.co',\n",
       " 9: 'renayy_xo',\n",
       " 10: 'antisocial.ajay',\n",
       " 11: 'xmiamac.privx',\n",
       " 12: 'x.kadie.x1',\n",
       " 13: 'kushyss_',\n",
       " 14: 'garciella.chris11'}"
      ]
     },
     "execution_count": 42,
     "metadata": {},
     "output_type": "execute_result"
    }
   ],
   "source": [
    "#Creating a dictionary to store the followers of an account\n",
    "dict4 = followers_df['ybrz7'].to_dict()\n",
    "dict4"
   ]
  },
  {
   "cell_type": "code",
   "execution_count": 57,
   "id": "0c49c5c5",
   "metadata": {
    "scrolled": true
   },
   "outputs": [],
   "source": [
    "# Creating an empty graph object\n",
    "g = nx.Graph()\n",
    "\n",
    "# Adding the first node into the graph \n",
    "g.add_node('fatcow4098')\n",
    "# Adding the accounts in the first accounts list as nodes and creating an edge to them\n",
    "for account in list(dict1.values()):\n",
    "    g.add_node(account)\n",
    "    g.add_edge('fatcow4098', account)"
   ]
  },
  {
   "cell_type": "code",
   "execution_count": 58,
   "id": "95ce9d3f",
   "metadata": {},
   "outputs": [],
   "source": [
    "# Adding second account as a node and edges to its 15 listed followers in dataframe\n",
    "for account in list(dict2.values()):\n",
    "    g.add_node(account)\n",
    "    g.add_edge('masonrose6', account)"
   ]
  },
  {
   "cell_type": "code",
   "execution_count": 59,
   "id": "e5535b74",
   "metadata": {},
   "outputs": [],
   "source": [
    "# Adding third account as a node and edges to its 15 listed followers in dataframe\n",
    "for account in list(dict3.values()):\n",
    "    g.add_node(account)\n",
    "    g.add_edge('kaylamaei', account)"
   ]
  },
  {
   "cell_type": "code",
   "execution_count": 60,
   "id": "df689f9f",
   "metadata": {},
   "outputs": [],
   "source": [
    "# Adding fourth account as a node and edges to its 15 listed followers in dataframe\n",
    "for account in list(dict4.values()):\n",
    "    g.add_node(account)\n",
    "    g.add_edge('ybrz7', account)"
   ]
  },
  {
   "cell_type": "code",
   "execution_count": 61,
   "id": "5dbf8580",
   "metadata": {
    "scrolled": true
   },
   "outputs": [
    {
     "name": "stdout",
     "output_type": "stream",
     "text": [
      "Nodes:  61\n"
     ]
    }
   ],
   "source": [
    "#Displaying total nodes in graph\n",
    "print('Nodes: ',len(g.nodes))"
   ]
  },
  {
   "cell_type": "code",
   "execution_count": 62,
   "id": "2cbfec71",
   "metadata": {},
   "outputs": [
    {
     "name": "stdout",
     "output_type": "stream",
     "text": [
      "Edges:  60\n"
     ]
    }
   ],
   "source": [
    "#Displaying total edges in graph \n",
    "print('Edges: ', len(g.edges))"
   ]
  },
  {
   "cell_type": "code",
   "execution_count": 63,
   "id": "ff3d42a0",
   "metadata": {
    "scrolled": true
   },
   "outputs": [
    {
     "data": {
      "text/plain": [
       "['fatcow4098',\n",
       " 'masonrose6',\n",
       " 'shawn_to_flyyyyy',\n",
       " 'whiskey_tango_foxbody',\n",
       " 'pruitt.coile',\n",
       " 'giadamistrutta',\n",
       " 'chillweed_4_20',\n",
       " 'ratu.flora',\n",
       " '_bbrandon.23',\n",
       " 'biabocaroser',\n",
       " 'nao.nos.siga.aqui',\n",
       " 'tagandbag08',\n",
       " 'paola_goomez',\n",
       " 'jamesyoung6476',\n",
       " 'betkowskiji',\n",
       " 'decor_ecoo',\n",
       " 'xonathaniel_taggart_xo',\n",
       " 'xox.miaaa.xox',\n",
       " 'kaylamaei',\n",
       " 'm1loose.1',\n",
       " 'oussamabenmokran31',\n",
       " 'pulisciano_19',\n",
       " 's.dovastonx',\n",
       " 'xx.charlotte.xxo',\n",
       " 'm.looc1',\n",
       " 'amaritaggart123',\n",
       " '_.bethany_mai._',\n",
       " 'bishopwheelersqbb',\n",
       " 'dz.mosthatedd',\n",
       " 'harley.1806',\n",
       " 'rip_leboss1914',\n",
       " 'xxtaylor.maiiix',\n",
       " 'x.itzskyla.x',\n",
       " 'itss.tamz8',\n",
       " 'c.tombsx',\n",
       " 'j1.sksk',\n",
       " 'tamia_x_',\n",
       " 'ybrz7',\n",
       " 'kyza553',\n",
       " 'jaiixbby1',\n",
       " 'zainempala.1',\n",
       " 'muggies_yo_',\n",
       " 'lylaallsop',\n",
       " '_.millyxcxx',\n",
       " 'brumbaitsss',\n",
       " 'datkid_r1',\n",
       " 'livssssjunk',\n",
       " 'str8bandsss',\n",
       " 'itzyourgirllove',\n",
       " 'alana.rosexo',\n",
       " 'switzymen',\n",
       " 'kadenfairbro_new',\n",
       " 'xerinnnn_x',\n",
       " 'ihateremz',\n",
       " 'ldzz.co',\n",
       " 'renayy_xo',\n",
       " 'antisocial.ajay',\n",
       " 'xmiamac.privx',\n",
       " 'x.kadie.x1',\n",
       " 'kushyss_',\n",
       " 'garciella.chris11']"
      ]
     },
     "execution_count": 63,
     "metadata": {},
     "output_type": "execute_result"
    }
   ],
   "source": [
    "#What G looks like \n",
    "list(g)"
   ]
  },
  {
   "cell_type": "code",
   "execution_count": 65,
   "id": "cf4acb84",
   "metadata": {
    "scrolled": true
   },
   "outputs": [],
   "source": [
    "# Finally creating our graph file to use in gehpi \n",
    "nx.write_graphml(g, 'followers2.graphml')"
   ]
  }
 ],
 "metadata": {
  "kernelspec": {
   "display_name": "Python 3 (ipykernel)",
   "language": "python",
   "name": "python3"
  },
  "language_info": {
   "codemirror_mode": {
    "name": "ipython",
    "version": 3
   },
   "file_extension": ".py",
   "mimetype": "text/x-python",
   "name": "python",
   "nbconvert_exporter": "python",
   "pygments_lexer": "ipython3",
   "version": "3.9.13"
  }
 },
 "nbformat": 4,
 "nbformat_minor": 5
}
