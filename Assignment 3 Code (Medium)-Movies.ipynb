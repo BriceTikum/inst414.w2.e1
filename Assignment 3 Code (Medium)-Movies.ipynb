{
 "cells": [
  {
   "cell_type": "code",
   "execution_count": 7,
   "id": "b1e043a6",
   "metadata": {},
   "outputs": [],
   "source": [
    "%matplotlib inline"
   ]
  },
  {
   "cell_type": "code",
   "execution_count": 2,
   "id": "f536929f",
   "metadata": {},
   "outputs": [],
   "source": [
    "import pandas as pd\n",
    "import json\n",
    "from scipy.sparse import lil_matrix \n",
    "import scipy.spatial.distance\n",
    "from sklearn.metrics import DistanceMetric\n",
    "from sklearn.metrics.pairwise import cosine_distances"
   ]
  },
  {
   "cell_type": "markdown",
   "id": "2c407aec",
   "metadata": {},
   "source": [
    "# RANKING MOVIES MOST SIMILAR TO TARGET"
   ]
  },
  {
   "cell_type": "code",
   "execution_count": 3,
   "id": "f8accdf3",
   "metadata": {},
   "outputs": [],
   "source": [
    "actor_name_map = {}\n",
    "movie_actor_map = {}\n",
    "\n",
    "\n",
    "with open(\"/Users/bricetikum/Desktop/INST414WORK/imdb_movies_2000to2022.prolific.json.txt\", \"r\") as in_file:\n",
    "    for line in in_file:\n",
    "        \n",
    "        this_movie = json.loads(line)\n",
    "            \n",
    "        for actor_id,actor_name in this_movie['actors']:\n",
    "            actor_name_map[actor_id] = actor_name\n",
    "            \n",
    "        movie_actor_map[this_movie[\"imdb_id\"]] = ({\n",
    "            \"movie\": this_movie[\"title\"],\n",
    "            \"actors\": {a[0] for a in this_movie['actors']},\n",
    "            \"genres\": this_movie[\"genres\"]\n",
    "        })\n"
   ]
  },
  {
   "cell_type": "code",
   "execution_count": 49,
   "id": "023960ee",
   "metadata": {
    "scrolled": true
   },
   "outputs": [
    {
     "data": {
      "text/html": [
       "<div>\n",
       "<style scoped>\n",
       "    .dataframe tbody tr th:only-of-type {\n",
       "        vertical-align: middle;\n",
       "    }\n",
       "\n",
       "    .dataframe tbody tr th {\n",
       "        vertical-align: top;\n",
       "    }\n",
       "\n",
       "    .dataframe thead th {\n",
       "        text-align: right;\n",
       "    }\n",
       "</style>\n",
       "<table border=\"1\" class=\"dataframe\">\n",
       "  <thead>\n",
       "    <tr style=\"text-align: right;\">\n",
       "      <th></th>\n",
       "      <th>movie</th>\n",
       "      <th>actors</th>\n",
       "      <th>genres</th>\n",
       "    </tr>\n",
       "  </thead>\n",
       "  <tbody>\n",
       "    <tr>\n",
       "      <th>tt0035423</th>\n",
       "      <td>Kate &amp; Leopold</td>\n",
       "      <td>{nm0005227, nm0000630, nm0000212, nm0413168}</td>\n",
       "      <td>[Comedy, Fantasy, Romance]</td>\n",
       "    </tr>\n",
       "    <tr>\n",
       "      <th>tt0088751</th>\n",
       "      <td>The Naked Monster</td>\n",
       "      <td>{nm0828288, nm0933983, nm0864851, nm0329491}</td>\n",
       "      <td>[Comedy, Horror, Sci-Fi]</td>\n",
       "    </tr>\n",
       "    <tr>\n",
       "      <th>tt0096056</th>\n",
       "      <td>Crime and Punishment</td>\n",
       "      <td>{nm0000457, nm0452288, nm0000417, nm0000603}</td>\n",
       "      <td>[Drama]</td>\n",
       "    </tr>\n",
       "    <tr>\n",
       "      <th>tt0113092</th>\n",
       "      <td>For the Cause</td>\n",
       "      <td>{nm0001002, nm0001299, nm0936365, nm0923529}</td>\n",
       "      <td>[Action, Adventure, Drama]</td>\n",
       "    </tr>\n",
       "    <tr>\n",
       "      <th>tt0116391</th>\n",
       "      <td>Gang</td>\n",
       "      <td>{nm0412917, nm0006763, nm0007113, nm0310173}</td>\n",
       "      <td>[Action, Crime, Drama]</td>\n",
       "    </tr>\n",
       "    <tr>\n",
       "      <th>...</th>\n",
       "      <td>...</td>\n",
       "      <td>...</td>\n",
       "      <td>...</td>\n",
       "    </tr>\n",
       "    <tr>\n",
       "      <th>tt9906278</th>\n",
       "      <td>A Classic Tour of Scotland: Footloose Special</td>\n",
       "      <td>{nm1644256}</td>\n",
       "      <td>[Documentary]</td>\n",
       "    </tr>\n",
       "    <tr>\n",
       "      <th>tt9906644</th>\n",
       "      <td>Manoharam</td>\n",
       "      <td>{nm1428724, nm2068971, nm10375007, nm7243877}</td>\n",
       "      <td>[Comedy, Drama]</td>\n",
       "    </tr>\n",
       "    <tr>\n",
       "      <th>tt9906844</th>\n",
       "      <td>Footloose in England's Lake District</td>\n",
       "      <td>{nm1644256}</td>\n",
       "      <td>[Documentary]</td>\n",
       "    </tr>\n",
       "    <tr>\n",
       "      <th>tt9907032</th>\n",
       "      <td>Footloose in London II: Undiscovered and Unusual</td>\n",
       "      <td>{nm1644256}</td>\n",
       "      <td>[Documentary]</td>\n",
       "    </tr>\n",
       "    <tr>\n",
       "      <th>tt9907608</th>\n",
       "      <td>Footloose in the Cotswolds: Part 2</td>\n",
       "      <td>{nm1644256}</td>\n",
       "      <td>[Documentary]</td>\n",
       "    </tr>\n",
       "  </tbody>\n",
       "</table>\n",
       "<p>20620 rows × 3 columns</p>\n",
       "</div>"
      ],
      "text/plain": [
       "                                                      movie  \\\n",
       "tt0035423                                    Kate & Leopold   \n",
       "tt0088751                                 The Naked Monster   \n",
       "tt0096056                              Crime and Punishment   \n",
       "tt0113092                                     For the Cause   \n",
       "tt0116391                                              Gang   \n",
       "...                                                     ...   \n",
       "tt9906278     A Classic Tour of Scotland: Footloose Special   \n",
       "tt9906644                                         Manoharam   \n",
       "tt9906844              Footloose in England's Lake District   \n",
       "tt9907032  Footloose in London II: Undiscovered and Unusual   \n",
       "tt9907608                Footloose in the Cotswolds: Part 2   \n",
       "\n",
       "                                                  actors  \\\n",
       "tt0035423   {nm0005227, nm0000630, nm0000212, nm0413168}   \n",
       "tt0088751   {nm0828288, nm0933983, nm0864851, nm0329491}   \n",
       "tt0096056   {nm0000457, nm0452288, nm0000417, nm0000603}   \n",
       "tt0113092   {nm0001002, nm0001299, nm0936365, nm0923529}   \n",
       "tt0116391   {nm0412917, nm0006763, nm0007113, nm0310173}   \n",
       "...                                                  ...   \n",
       "tt9906278                                    {nm1644256}   \n",
       "tt9906644  {nm1428724, nm2068971, nm10375007, nm7243877}   \n",
       "tt9906844                                    {nm1644256}   \n",
       "tt9907032                                    {nm1644256}   \n",
       "tt9907608                                    {nm1644256}   \n",
       "\n",
       "                               genres  \n",
       "tt0035423  [Comedy, Fantasy, Romance]  \n",
       "tt0088751    [Comedy, Horror, Sci-Fi]  \n",
       "tt0096056                     [Drama]  \n",
       "tt0113092  [Action, Adventure, Drama]  \n",
       "tt0116391      [Action, Crime, Drama]  \n",
       "...                               ...  \n",
       "tt9906278               [Documentary]  \n",
       "tt9906644             [Comedy, Drama]  \n",
       "tt9906844               [Documentary]  \n",
       "tt9907032               [Documentary]  \n",
       "tt9907608               [Documentary]  \n",
       "\n",
       "[20620 rows x 3 columns]"
      ]
     },
     "execution_count": 49,
     "metadata": {},
     "output_type": "execute_result"
    }
   ],
   "source": [
    "df = pd.DataFrame(movie_actor_map.values(), index=movie_actor_map.keys())\n",
    "df[df[\"movie\"] == \"Avatar\"]\n",
    "df"
   ]
  },
  {
   "cell_type": "code",
   "execution_count": 27,
   "id": "755be233",
   "metadata": {},
   "outputs": [
    {
     "data": {
      "text/html": [
       "<div>\n",
       "<style scoped>\n",
       "    .dataframe tbody tr th:only-of-type {\n",
       "        vertical-align: middle;\n",
       "    }\n",
       "\n",
       "    .dataframe tbody tr th {\n",
       "        vertical-align: top;\n",
       "    }\n",
       "\n",
       "    .dataframe thead th {\n",
       "        text-align: right;\n",
       "    }\n",
       "</style>\n",
       "<table border=\"1\" class=\"dataframe\">\n",
       "  <thead>\n",
       "    <tr style=\"text-align: right;\">\n",
       "      <th></th>\n",
       "      <th>movie</th>\n",
       "      <th>actors</th>\n",
       "      <th>genres</th>\n",
       "    </tr>\n",
       "  </thead>\n",
       "  <tbody>\n",
       "    <tr>\n",
       "      <th>tt0499549</th>\n",
       "      <td>Avatar</td>\n",
       "      <td>{nm0735442, nm0941777, nm0000244, nm0757855}</td>\n",
       "      <td>[Action, Adventure, Fantasy]</td>\n",
       "    </tr>\n",
       "  </tbody>\n",
       "</table>\n",
       "</div>"
      ],
      "text/plain": [
       "            movie                                        actors  \\\n",
       "tt0499549  Avatar  {nm0735442, nm0941777, nm0000244, nm0757855}   \n",
       "\n",
       "                                 genres  \n",
       "tt0499549  [Action, Adventure, Fantasy]  "
      ]
     },
     "execution_count": 27,
     "metadata": {},
     "output_type": "execute_result"
    }
   ],
   "source": [
    "movie = df[df['movie'] == 'Avatar']\n",
    "movie"
   ]
  },
  {
   "cell_type": "code",
   "execution_count": 20,
   "id": "f897e5d8",
   "metadata": {},
   "outputs": [
    {
     "data": {
      "text/html": [
       "<div>\n",
       "<style scoped>\n",
       "    .dataframe tbody tr th:only-of-type {\n",
       "        vertical-align: middle;\n",
       "    }\n",
       "\n",
       "    .dataframe tbody tr th {\n",
       "        vertical-align: top;\n",
       "    }\n",
       "\n",
       "    .dataframe thead th {\n",
       "        text-align: right;\n",
       "    }\n",
       "</style>\n",
       "<table border=\"1\" class=\"dataframe\">\n",
       "  <thead>\n",
       "    <tr style=\"text-align: right;\">\n",
       "      <th></th>\n",
       "      <th>movie</th>\n",
       "      <th>actors</th>\n",
       "      <th>genres</th>\n",
       "    </tr>\n",
       "  </thead>\n",
       "  <tbody>\n",
       "    <tr>\n",
       "      <th>tt4154796</th>\n",
       "      <td>Avengers: Endgame</td>\n",
       "      <td>{nm0000375, nm0749263, nm1165110, nm0262635}</td>\n",
       "      <td>[Action, Adventure, Drama]</td>\n",
       "    </tr>\n",
       "  </tbody>\n",
       "</table>\n",
       "</div>"
      ],
      "text/plain": [
       "                       movie                                        actors  \\\n",
       "tt4154796  Avengers: Endgame  {nm0000375, nm0749263, nm1165110, nm0262635}   \n",
       "\n",
       "                               genres  \n",
       "tt4154796  [Action, Adventure, Drama]  "
      ]
     },
     "execution_count": 20,
     "metadata": {},
     "output_type": "execute_result"
    }
   ],
   "source": [
    "movie2 = df[df['movie'] == 'Avengers: Endgame']\n",
    "movie2"
   ]
  },
  {
   "cell_type": "code",
   "execution_count": 23,
   "id": "404e01ca",
   "metadata": {},
   "outputs": [
    {
     "data": {
      "text/html": [
       "<div>\n",
       "<style scoped>\n",
       "    .dataframe tbody tr th:only-of-type {\n",
       "        vertical-align: middle;\n",
       "    }\n",
       "\n",
       "    .dataframe tbody tr th {\n",
       "        vertical-align: top;\n",
       "    }\n",
       "\n",
       "    .dataframe thead th {\n",
       "        text-align: right;\n",
       "    }\n",
       "</style>\n",
       "<table border=\"1\" class=\"dataframe\">\n",
       "  <thead>\n",
       "    <tr style=\"text-align: right;\">\n",
       "      <th></th>\n",
       "      <th>movie</th>\n",
       "      <th>actors</th>\n",
       "      <th>genres</th>\n",
       "    </tr>\n",
       "  </thead>\n",
       "  <tbody>\n",
       "    <tr>\n",
       "      <th>tt0369610</th>\n",
       "      <td>Jurassic World</td>\n",
       "      <td>{nm0695435, nm0339460, nm1339223, nm0397171}</td>\n",
       "      <td>[Action, Adventure, Sci-Fi]</td>\n",
       "    </tr>\n",
       "  </tbody>\n",
       "</table>\n",
       "</div>"
      ],
      "text/plain": [
       "                    movie                                        actors  \\\n",
       "tt0369610  Jurassic World  {nm0695435, nm0339460, nm1339223, nm0397171}   \n",
       "\n",
       "                                genres  \n",
       "tt0369610  [Action, Adventure, Sci-Fi]  "
      ]
     },
     "execution_count": 23,
     "metadata": {},
     "output_type": "execute_result"
    }
   ],
   "source": [
    "movie3 = df[df['movie'] == 'Jurassic World']\n",
    "movie3"
   ]
  },
  {
   "cell_type": "code",
   "execution_count": 24,
   "id": "b37daa08",
   "metadata": {
    "scrolled": true
   },
   "outputs": [
    {
     "data": {
      "text/html": [
       "<div>\n",
       "<style scoped>\n",
       "    .dataframe tbody tr th:only-of-type {\n",
       "        vertical-align: middle;\n",
       "    }\n",
       "\n",
       "    .dataframe tbody tr th {\n",
       "        vertical-align: top;\n",
       "    }\n",
       "\n",
       "    .dataframe thead th {\n",
       "        text-align: right;\n",
       "    }\n",
       "</style>\n",
       "<table border=\"1\" class=\"dataframe\">\n",
       "  <thead>\n",
       "    <tr style=\"text-align: right;\">\n",
       "      <th></th>\n",
       "      <th>movie</th>\n",
       "      <th>actors</th>\n",
       "      <th>genres</th>\n",
       "    </tr>\n",
       "  </thead>\n",
       "  <tbody>\n",
       "    <tr>\n",
       "      <th>tt6105098</th>\n",
       "      <td>The Lion King</td>\n",
       "      <td>{nm0736622, nm0461498, nm0252230, nm2255973}</td>\n",
       "      <td>[Adventure, Animation, Drama]</td>\n",
       "    </tr>\n",
       "  </tbody>\n",
       "</table>\n",
       "</div>"
      ],
      "text/plain": [
       "                   movie                                        actors  \\\n",
       "tt6105098  The Lion King  {nm0736622, nm0461498, nm0252230, nm2255973}   \n",
       "\n",
       "                                  genres  \n",
       "tt6105098  [Adventure, Animation, Drama]  "
      ]
     },
     "execution_count": 24,
     "metadata": {},
     "output_type": "execute_result"
    }
   ],
   "source": [
    "movie4 = df[df['movie'] == 'The Lion King']\n",
    "movie4"
   ]
  },
  {
   "cell_type": "code",
   "execution_count": 29,
   "id": "fa5380b2",
   "metadata": {},
   "outputs": [],
   "source": [
    "target_movie_id = 'tt0499549' # Avatar\n",
    "target_movie_id2 = 'tt4154796' # Avengers: Endgame\n",
    "target_movie_id3 = 'tt0369610' # Jurassic World \n",
    "target_movie_id4 = 'tt6105098' # The Lion King"
   ]
  },
  {
   "cell_type": "code",
   "execution_count": 30,
   "id": "ac766b0d",
   "metadata": {},
   "outputs": [
    {
     "data": {
      "text/plain": [
       "{'movie': 'Avatar',\n",
       " 'actors': {'nm0000244', 'nm0735442', 'nm0757855', 'nm0941777'},\n",
       " 'genres': ['Action', 'Adventure', 'Fantasy']}"
      ]
     },
     "execution_count": 30,
     "metadata": {},
     "output_type": "execute_result"
    }
   ],
   "source": [
    "target_movie = movie_actor_map[target_movie_id]\n",
    "target_movie"
   ]
  },
  {
   "cell_type": "code",
   "execution_count": 31,
   "id": "255c4e12",
   "metadata": {},
   "outputs": [
    {
     "data": {
      "text/plain": [
       "{'movie': 'Avengers: Endgame',\n",
       " 'actors': {'nm0000375', 'nm0262635', 'nm0749263', 'nm1165110'},\n",
       " 'genres': ['Action', 'Adventure', 'Drama']}"
      ]
     },
     "execution_count": 31,
     "metadata": {},
     "output_type": "execute_result"
    }
   ],
   "source": [
    "target_movie2 = movie_actor_map[target_movie_id2]\n",
    "target_movie2"
   ]
  },
  {
   "cell_type": "code",
   "execution_count": 32,
   "id": "5c13219e",
   "metadata": {},
   "outputs": [
    {
     "data": {
      "text/plain": [
       "{'movie': 'Jurassic World',\n",
       " 'actors': {'nm0339460', 'nm0397171', 'nm0695435', 'nm1339223'},\n",
       " 'genres': ['Action', 'Adventure', 'Sci-Fi']}"
      ]
     },
     "execution_count": 32,
     "metadata": {},
     "output_type": "execute_result"
    }
   ],
   "source": [
    "target_movie3 = movie_actor_map[target_movie_id3]\n",
    "target_movie3"
   ]
  },
  {
   "cell_type": "code",
   "execution_count": 33,
   "id": "fb05e1e7",
   "metadata": {},
   "outputs": [
    {
     "data": {
      "text/plain": [
       "{'movie': 'The Lion King',\n",
       " 'actors': {'nm0252230', 'nm0461498', 'nm0736622', 'nm2255973'},\n",
       " 'genres': ['Adventure', 'Animation', 'Drama']}"
      ]
     },
     "execution_count": 33,
     "metadata": {},
     "output_type": "execute_result"
    }
   ],
   "source": [
    "target_movie4 = movie_actor_map[target_movie_id4]\n",
    "target_movie4"
   ]
  },
  {
   "cell_type": "code",
   "execution_count": 47,
   "id": "c6804717",
   "metadata": {},
   "outputs": [],
   "source": [
    "distances = []\n",
    "\n",
    "target_actors = target_movie4[\"actors\"]\n",
    "for movie in movie_actor_map.values():\n",
    "    these_actors = movie[\"actors\"]\n",
    "    \n",
    "    numer = len(target_actors.intersection(these_actors))\n",
    "    denom = len(target_actors.union(these_actors))\n",
    "    \n",
    "    jaccard_sim = numer / denom\n",
    "    \n",
    "    distances.append({\n",
    "        \"movie\": movie,\n",
    "        \"similarity\": jaccard_sim\n",
    "    })"
   ]
  },
  {
   "cell_type": "code",
   "execution_count": 48,
   "id": "e3363b22",
   "metadata": {
    "scrolled": false
   },
   "outputs": [
    {
     "name": "stdout",
     "output_type": "stream",
     "text": [
      "The Lion King 1.0\n",
      "\t Seth Rogen\n",
      "\t Beyoncé\n",
      "\t Chiwetel Ejiofor\n",
      "\t Donald Glover\n",
      "Day Zero 0.25\n",
      "\t Chiwetel Ejiofor\n",
      "Z for Zachariah 0.16666666666666666\n",
      "\t Margot Robbie\n",
      "\t Chris Pine\n",
      "\t Chiwetel Ejiofor\n",
      "The Fighting Temptations 0.14285714285714285\n",
      "\t Cuba Gooding Jr.\n",
      "\t Mike Epps\n",
      "\t Nigel Washington\n",
      "\t Beyoncé\n",
      "Children of Men 0.14285714285714285\n",
      "\t Clive Owen\n",
      "\t Julianne Moore\n",
      "\t Michael Caine\n",
      "\t Chiwetel Ejiofor\n",
      "It Was an Accident 0.14285714285714285\n",
      "\t Max Beesley\n",
      "\t Nicola Stapleton\n",
      "\t James Bolam\n",
      "\t Chiwetel Ejiofor\n",
      "Austin Powers in Goldmember 0.14285714285714285\n",
      "\t Michael York\n",
      "\t Seth Green\n",
      "\t Mike Myers\n",
      "\t Beyoncé\n",
      "Dirty Pretty Things 0.14285714285714285\n",
      "\t Kriss Dosanjh\n",
      "\t Audrey Tautou\n",
      "\t Sophie Okonedo\n",
      "\t Chiwetel Ejiofor\n",
      "3 Blind Mice 0.14285714285714285\n",
      "\t Sara Stewart\n",
      "\t Emilia Fox\n",
      "\t Edward Furlong\n",
      "\t Chiwetel Ejiofor\n",
      "Melinda and Melinda 0.14285714285714285\n",
      "\t Wallace Shawn\n",
      "\t Will Ferrell\n",
      "\t Vinessa Shaw\n",
      "\t Chiwetel Ejiofor\n"
     ]
    }
   ],
   "source": [
    "for similar_movie in sorted(distances, key=lambda x: x[\"similarity\"], reverse=True)[:10]:\n",
    "    print(similar_movie[\"movie\"][\"movie\"], similar_movie[\"similarity\"])\n",
    "    for actor in similar_movie[\"movie\"][\"actors\"]:\n",
    "        print(\"\\t\", actor_name_map[actor])\n"
   ]
  },
  {
   "cell_type": "code",
   "execution_count": null,
   "id": "177e0970",
   "metadata": {},
   "outputs": [],
   "source": []
  }
 ],
 "metadata": {
  "kernelspec": {
   "display_name": "Python 3 (ipykernel)",
   "language": "python",
   "name": "python3"
  },
  "language_info": {
   "codemirror_mode": {
    "name": "ipython",
    "version": 3
   },
   "file_extension": ".py",
   "mimetype": "text/x-python",
   "name": "python",
   "nbconvert_exporter": "python",
   "pygments_lexer": "ipython3",
   "version": "3.9.13"
  }
 },
 "nbformat": 4,
 "nbformat_minor": 5
}
